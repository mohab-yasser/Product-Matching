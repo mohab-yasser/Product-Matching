{
 "cells": [
  {
   "cell_type": "code",
   "execution_count": null,
   "id": "8a4110fa-7d2a-4570-87ab-2d453d46c394",
   "metadata": {},
   "outputs": [],
   "source": [
    "import pandas as pd\n",
    "import numpy as np\n",
    "from sklearn.feature_extraction.text import TfidfVectorizer\n",
    "from sklearn.metrics.pairwise import cosine_similarity\n",
    "\n",
    "# تحميل ملفات البيانات\n",
    "df_master = pd.read_excel(\"Product Matching Dataset.xlsx\")\n",
    "df_seller = pd.read_excel(\"Product Matching Dataset2.xlsx\")\n",
    "\n",
    "# تنظيف البيانات: إزالة المسافات الفارغة وتحويل النصوص إلى حروف صغيرة\n",
    "df_seller[\"seller_item_name_clean\"] = df_seller[\"seller_item_name\"].str.strip().str.lower()\n",
    "df_master[\"product_name_ar_clean\"] = df_master[\"product_name_ar\"].str.strip().str.lower()\n",
    "\n",
    "# تحويل الأسماء إلى قوائم نصوص لمعالجتها\n",
    "seller_names = df_seller[\"seller_item_name_clean\"].fillna(\"\").astype(str).tolist()\n",
    "master_names = df_master[\"product_name_ar_clean\"].fillna(\"\").astype(str).tolist()\n",
    "\n",
    "# إنشاء نموذج TF-IDF لمعالجة النصوص باستخدام n-grams\n",
    "vectorizer = TfidfVectorizer(analyzer=\"char_wb\", ngram_range=(2, 4), max_features=5000)\n",
    "\n",
    "# تحويل الأسماء إلى مصفوفة رقمية باستخدام TF-IDF\n",
    "tfidf_matrix_master = vectorizer.fit_transform(master_names)\n",
    "\n",
    "# دالة للبحث عن أقرب تطابق لاسم المنتج\n",
    "def find_similar_drug(input_drug):\n",
    "    input_clean = input_drug.strip().lower()  # تنظيف المدخلات\n",
    "    input_vector = vectorizer.transform([input_clean])  # تحويل النص إلى تمثيل رقمي\n",
    "\n",
    "    # حساب تشابه كوساين بين المنتج المدخل والمنتجات في القائمة\n",
    "    cosine_similarities = cosine_similarity(input_vector, tfidf_matrix_master)\n",
    "\n",
    "    # استخراج المنتج الأكثر تشابهًا\n",
    "    best_match_index = cosine_similarities.argmax()\n",
    "    best_score = cosine_similarities.max()\n",
    "\n",
    "    matched_sku = df_master.iloc[best_match_index][\"sku\"]\n",
    "    matched_name = df_master.iloc[best_match_index][\"product_name_ar_clean\"]\n",
    "\n",
    "    return matched_sku, matched_name, best_score\n",
    "\n",
    "# البحث التفاعلي عن المنتجات المشابهة\n",
    "while True:\n",
    "    input_drug = input(\"\\n🔍 أدخل اسم المنتج للبحث (أو اكتب 'خروج' لإنهاء البحث): \").strip()\n",
    "    if input_drug.lower() == \"خروج\":\n",
    "        print(\"🚪 تم إنهاء البحث.\")\n",
    "        break\n",
    "    \n",
    "    sku, name, score = find_similar_drug(input_drug)\n",
    "    print(f\"\\n✅ أقرب تطابق: {name} (SKU: {sku})\")\n",
    "    print(f\"🎯 نسبة التشابه: {score * 100:.2f}%\")\n"
   ]
  },
  {
   "cell_type": "code",
   "execution_count": null,
   "id": "71f90ca0-3960-4114-98ed-884183d4f9eb",
   "metadata": {},
   "outputs": [],
   "source": []
  }
 ],
 "metadata": {
  "kernelspec": {
   "display_name": "Python 3 (ipykernel)",
   "language": "python",
   "name": "python3"
  },
  "language_info": {
   "codemirror_mode": {
    "name": "ipython",
    "version": 3
   },
   "file_extension": ".py",
   "mimetype": "text/x-python",
   "name": "python",
   "nbconvert_exporter": "python",
   "pygments_lexer": "ipython3",
   "version": "3.12.4"
  }
 },
 "nbformat": 4,
 "nbformat_minor": 5
}
